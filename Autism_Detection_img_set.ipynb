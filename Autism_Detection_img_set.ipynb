{
 "cells": [
  {
   "cell_type": "code",
   "execution_count": null,
   "id": "108f14e8",
   "metadata": {},
   "outputs": [],
   "source": [
    "from tensorflow.keras.preprocessing.image import ImageDataGenerator\n",
    "from tensorflow.keras.preprocessing import image\n",
    "import tensorflow as tf\n",
    "import matplotlib.pyplot as plt\n",
    "import cv2\n",
    "import numpy as np\n",
    "import os"
   ]
  },
  {
   "cell_type": "code",
   "execution_count": null,
   "id": "db716f9e",
   "metadata": {},
   "outputs": [],
   "source": [
    "train = ImageDataGenerator(rescale=1/255)\n",
    "valid = ImageDataGenerator(rescale=1/255)"
   ]
  },
  {
   "cell_type": "code",
   "execution_count": null,
   "id": "d06dd134",
   "metadata": {},
   "outputs": [],
   "source": [
    "train_set = train.flow_from_directory('H:/Course Problems/CSE-438/AutismDataset/train',\n",
    "                                      target_size=(200,200), \n",
    "                                    class_mode='binary' )\n"
   ]
  },
  {
   "cell_type": "code",
   "execution_count": null,
   "id": "c8402929",
   "metadata": {},
   "outputs": [],
   "source": [
    "train_set.class_indices"
   ]
  },
  {
   "cell_type": "code",
   "execution_count": null,
   "id": "bdbb76f6",
   "metadata": {},
   "outputs": [],
   "source": [
    "train_set.classes"
   ]
  },
  {
   "cell_type": "code",
   "execution_count": null,
   "id": "f3f69628",
   "metadata": {},
   "outputs": [],
   "source": [
    "validation = valid.flow_from_directory('H:/Course Problems/CSE-438/AutismDataset/valid',\n",
    "                                      target_size=(200,200),\n",
    "                                    class_mode='binary' )"
   ]
  },
  {
   "cell_type": "code",
   "execution_count": null,
   "id": "0e861589",
   "metadata": {},
   "outputs": [],
   "source": [
    "validation.class_indices"
   ]
  },
  {
   "cell_type": "code",
   "execution_count": null,
   "id": "8383a106",
   "metadata": {},
   "outputs": [],
   "source": [
    "validation.classes"
   ]
  },
  {
   "cell_type": "code",
   "execution_count": null,
   "id": "06536016",
   "metadata": {},
   "outputs": [],
   "source": [
    "model = tf.keras.models.Sequential([tf.keras.layers.Conv2D(16,(3,3),activation=\"relu\",input_shape=(200,200,3)),\n",
    "                                    tf.keras.layers.MaxPool2D(2,2),\n",
    "                                    tf.keras.layers.Conv2D(32,(3,3),activation=\"relu\"),\n",
    "                                    tf.keras.layers.MaxPool2D(2,2),\n",
    "                                    tf.keras.layers.Conv2D(64,(3,3),activation=\"relu\"),\n",
    "                                    tf.keras.layers.MaxPool2D(2,2),\n",
    "                    \n",
    "                                    \n",
    "                                    tf.keras.layers.Flatten(),\n",
    "                                    \n",
    "\n",
    "                                   tf.keras.layers.Dense(512,activation=\"relu\"), \n",
    "                                   tf.keras.layers.Dense(100,activation=\"relu\"),  \n",
    "                                                         \n",
    "                                   tf.keras.layers.Dense(1,activation=\"sigmoid\")\n",
    "                                   ])"
   ]
  },
  {
   "cell_type": "code",
   "execution_count": null,
   "id": "8e9abec2",
   "metadata": {},
   "outputs": [],
   "source": [
    "model.compile(loss='binary_crossentropy',\n",
    "  optimizer=tf.keras.optimizers.RMSprop(learning_rate=0.00001),\n",
    "  metrics=['accuracy'])"
   ]
  },
  {
   "cell_type": "code",
   "execution_count": null,
   "id": "f230458f",
   "metadata": {},
   "outputs": [],
   "source": [
    "model.summary()"
   ]
  },
  {
   "cell_type": "code",
   "execution_count": null,
   "id": "60744dd7",
   "metadata": {},
   "outputs": [],
   "source": [
    "epochs =21\n",
    "model_fit = model.fit(train_set,\n",
    "                     epochs=epochs,\n",
    "                     validation_data= validation)"
   ]
  },
  {
   "cell_type": "code",
   "execution_count": null,
   "id": "4213010c",
   "metadata": {},
   "outputs": [],
   "source": [
    "acc = model_fit.history['accuracy']\n",
    "val_acc = model_fit.history['val_accuracy']\n",
    "\n",
    "loss = model_fit.history['loss']\n",
    "val_loss = model_fit.history['val_loss']\n",
    "\n",
    "epochs_range = range(epochs)\n",
    "\n",
    "plt.figure(figsize=(8, 8))\n",
    "plt.subplot(1, 2, 1)\n",
    "plt.plot(epochs_range, acc, label='Training Accuracy')\n",
    "plt.plot(epochs_range, val_acc, label='Validation Accuracy')\n",
    "plt.legend(loc='lower right')\n",
    "plt.title('Training and Validation Accuracy')\n",
    "\n",
    "plt.subplot(1, 2, 2)\n",
    "plt.plot(epochs_range, loss, label='Training Loss')\n",
    "plt.plot(epochs_range, val_loss, label='Validation Loss')\n",
    "plt.legend(loc='upper right')\n",
    "plt.title('Training and Validation Loss')\n",
    "plt.show()"
   ]
  },
  {
   "cell_type": "code",
   "execution_count": null,
   "id": "c709967e",
   "metadata": {},
   "outputs": [],
   "source": [
    "dir_path = 'H:/Course Problems/CSE-438/AutismDataset/test'\n",
    "\n",
    "for i in os.listdir(dir_path):\n",
    "   img = image.load_img(dir_path+'//'+ i,target_size =(200,200))\n",
    "   plt.imshow(img)\n",
    "   plt.show()\n",
    "\n",
    "   X = image.img_to_array(img)\n",
    "   X = np.expand_dims(X, axis =0)\n",
    "   images =np.vstack([X])\n",
    "   val = model.predict(images)\n",
    "   \n",
    "   if val==0:\n",
    "      print(\"The child is Autistic\")\n",
    "\n",
    "   else:\n",
    "      print(\"The child is not Autistic\")\n"
   ]
  }
 ],
 "metadata": {
  "kernelspec": {
   "display_name": "Python 3 (ipykernel)",
   "language": "python",
   "name": "python3"
  },
  "language_info": {
   "codemirror_mode": {
    "name": "ipython",
    "version": 3
   },
   "file_extension": ".py",
   "mimetype": "text/x-python",
   "name": "python",
   "nbconvert_exporter": "python",
   "pygments_lexer": "ipython3",
   "version": "3.10.2"
  }
 },
 "nbformat": 4,
 "nbformat_minor": 5
}
